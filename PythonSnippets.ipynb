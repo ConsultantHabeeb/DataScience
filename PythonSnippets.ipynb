{
 "cells": [
  {
   "cell_type": "markdown",
   "id": "cec694c9",
   "metadata": {},
   "source": [
    "## Get current directory"
   ]
  },
  {
   "cell_type": "code",
   "execution_count": 1,
   "id": "92cbc380",
   "metadata": {},
   "outputs": [
    {
     "data": {
      "text/plain": [
       "'E:\\\\DataScience'"
      ]
     },
     "execution_count": 1,
     "metadata": {},
     "output_type": "execute_result"
    }
   ],
   "source": [
    "#Get current working directory\n",
    "#This will help you from Jupyter NB\n",
    "import os as operatingsystem\n",
    "operatingsystem.getcwd()"
   ]
  }
 ],
 "metadata": {
  "kernelspec": {
   "display_name": "Python 3",
   "language": "python",
   "name": "python3"
  },
  "language_info": {
   "codemirror_mode": {
    "name": "ipython",
    "version": 3
   },
   "file_extension": ".py",
   "mimetype": "text/x-python",
   "name": "python",
   "nbconvert_exporter": "python",
   "pygments_lexer": "ipython3",
   "version": "3.9.5"
  }
 },
 "nbformat": 4,
 "nbformat_minor": 5
}
